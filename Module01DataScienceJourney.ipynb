{
 "cells": [
  {
   "cell_type": "markdown",
   "id": "421e58a7-9831-4003-8c37-b0154433d566",
   "metadata": {},
   "source": [
    "# My Data Science Journey\n",
    "\n",
    "### This notebook documents my learning process and goals in data science using Python."
   ]
  },
  {
   "cell_type": "markdown",
   "id": "8c235c20-9c15-492a-a804-eaaf19e433f7",
   "metadata": {},
   "source": [
    "## My Science Data Goals\n",
    "\n",
    "1. Complete the Python for data science and version control with GitHub by late October 2025.\n",
    "2. Importing JSON, CSV, and excel files into Panda DataFrames.\n",
    "3. Use Matplotlib and Seaborn to visualize the results.\n",
    "3. Build a portfolio of data science projects.\n",
    "4. Possible data sciene projects.\n",
    "    * Import and scrape college football data to create team rankings and predict results.\n",
    "    * Import and scrape professional soccer data to create team rankings and predict results."
   ]
  },
  {
   "cell_type": "code",
   "execution_count": null,
   "id": "9f8c3f01-6d01-4002-9ab0-13b5fcc5c3dd",
   "metadata": {},
   "outputs": [],
   "source": []
  }
 ],
 "metadata": {
  "kernelspec": {
   "display_name": "Python 3 (ipykernel)",
   "language": "python",
   "name": "python3"
  },
  "language_info": {
   "codemirror_mode": {
    "name": "ipython",
    "version": 3
   },
   "file_extension": ".py",
   "mimetype": "text/x-python",
   "name": "python",
   "nbconvert_exporter": "python",
   "pygments_lexer": "ipython3",
   "version": "3.10.6"
  }
 },
 "nbformat": 4,
 "nbformat_minor": 5
}
